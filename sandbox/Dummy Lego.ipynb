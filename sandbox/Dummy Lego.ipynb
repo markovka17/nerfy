{
 "cells": [
  {
   "cell_type": "code",
   "execution_count": 1,
   "metadata": {},
   "outputs": [],
   "source": [
    "import itertools\n",
    "\n",
    "import torch\n",
    "from torch import nn\n",
    "import torch.nn.functional as F\n",
    "from torch.utils.data import DataLoader\n",
    " \n",
    "from nerfy.renderer import RadianceFieldRenderer, RadianceFieldRendererConfig\n",
    "from nerfy.dataset import get_nerf_datasets, TrivialCollator\n",
    "from nerfy.utils import sample_images_at_mc_locs, calc_mse, calc_psnr\n",
    "\n",
    "import wandb"
   ]
  },
  {
   "cell_type": "code",
   "execution_count": 3,
   "metadata": {
    "scrolled": true
   },
   "outputs": [],
   "source": [
    "# wandb.init(project='nerf')"
   ]
  },
  {
   "cell_type": "markdown",
   "metadata": {},
   "source": [
    "---"
   ]
  },
  {
   "cell_type": "markdown",
   "metadata": {},
   "source": [
    "## Data"
   ]
  },
  {
   "cell_type": "code",
   "execution_count": 4,
   "metadata": {},
   "outputs": [
    {
     "name": "stdout",
     "output_type": "stream",
     "text": [
      "Loading dataset lego, image size=(200, 200) ...\n",
      "Rescaling dataset (factor=0.25)\n"
     ]
    }
   ],
   "source": [
    "train_dataset, val_dataset, test_dataset = get_nerf_datasets(\n",
    "    dataset_name='lego',\n",
    "    image_size=(200, 200)\n",
    ")"
   ]
  },
  {
   "cell_type": "code",
   "execution_count": 5,
   "metadata": {},
   "outputs": [],
   "source": [
    "train_dataloader = DataLoader(train_dataset, batch_size=1, shuffle=True, collate_fn=TrivialCollator())\n",
    "val_dataloader = DataLoader(val_dataset, batch_size=1, collate_fn=TrivialCollator())\n",
    "test_dataloader = DataLoader(test_dataset, batch_size=1, collate_fn=TrivialCollator())"
   ]
  },
  {
   "cell_type": "markdown",
   "metadata": {},
   "source": [
    "---"
   ]
  },
  {
   "cell_type": "markdown",
   "metadata": {},
   "source": [
    "## Model"
   ]
  },
  {
   "cell_type": "code",
   "execution_count": 6,
   "metadata": {},
   "outputs": [],
   "source": [
    "device = torch.device('cuda:1')\n",
    "config = RadianceFieldRendererConfig(\n",
    "    n_rays_per_image=5_000,\n",
    "    n_pts_per_ray=64,\n",
    "    image_width=200, image_height=200\n",
    ")\n",
    "\n",
    "model = RadianceFieldRenderer(config).to(device).train()\n",
    "criterion = nn.MSELoss()\n",
    "optimizer = torch.optim.Adam(model.parameters(), lr=5e-4, eps=1e-7)"
   ]
  },
  {
   "cell_type": "markdown",
   "metadata": {},
   "source": [
    "---"
   ]
  },
  {
   "cell_type": "markdown",
   "metadata": {},
   "source": [
    "## Train"
   ]
  },
  {
   "cell_type": "code",
   "execution_count": 11,
   "metadata": {},
   "outputs": [],
   "source": [
    "import itertools\n",
    "import imageio\n",
    "from tqdm import tqdm, trange"
   ]
  },
  {
   "cell_type": "code",
   "execution_count": 9,
   "metadata": {},
   "outputs": [],
   "source": [
    "EPOCH = 100"
   ]
  },
  {
   "cell_type": "code",
   "execution_count": null,
   "metadata": {},
   "outputs": [
    {
     "name": "stderr",
     "output_type": "stream",
     "text": [
      " 27%|██▋       | 27/100 [53:56<2:26:37, 120.51s/it]"
     ]
    }
   ],
   "source": [
    "for epoch in trange(EPOCH):\n",
    "    \n",
    "    model.train()\n",
    "    for batch in train_dataloader:\n",
    "        \n",
    "        batch = batch.to(device)\n",
    "        (rgb, weights), ray_bundle = model.renderer(batch.camera, model.implicit_function)\n",
    "\n",
    "        sampled_image = sample_images_at_mc_locs(batch.image, ray_bundle.xys)\n",
    "        loss = criterion(\n",
    "            sampled_image,\n",
    "            rgb\n",
    "        )\n",
    "        \n",
    "        optimizer.zero_grad()\n",
    "        loss.backward()\n",
    "        optimizer.step()\n",
    "        \n",
    "        wandb.log({\n",
    "            'train/psnr': calc_psnr(rgb.cpu().detach(), sampled_image.cpu().detach()),\n",
    "            'train/mse': loss.item(),\n",
    "        })\n",
    "    \n",
    "    for batch in val_dataloader:\n",
    "        \n",
    "        batch = batch.to(device)\n",
    "        with torch.no_grad():\n",
    "            (rgb, weights), ray_bundle = model.renderer(batch.camera, model.implicit_function)\n",
    "\n",
    "        sampled_image = sample_images_at_mc_locs(batch.image, ray_bundle.xys)\n",
    "        loss = criterion(\n",
    "            sampled_image,\n",
    "            rgb\n",
    "        )\n",
    "        \n",
    "        wandb.log({\n",
    "            'val/psnr': calc_psnr(rgb.cpu().detach(), sampled_image.cpu().detach()),\n",
    "            'val/mse': loss.item(),\n",
    "        })\n",
    "    \n",
    "    model.eval()\n",
    "    test_rendered_images = []\n",
    "    for batch in test_dataloader:\n",
    "        \n",
    "        batch = batch.to(device)\n",
    "        with torch.no_grad():\n",
    "            (rgb, _), _ = model.renderer(batch.camera, model.implicit_function)\n",
    "        \n",
    "        rgb = (rgb.cpu() * 255) \\\n",
    "            .squeeze(dim=0) \\\n",
    "            .view(config.image_height, config.image_width, -1) \\\n",
    "            .to(torch.uint8) \\\n",
    "            .numpy()\n",
    "        test_rendered_images.append(rgb)\n",
    "    \n",
    "    imageio.mimsave(f'lego_{epoch}.gif', test_rendered_images, fps=30)\n",
    "    wandb.log({\n",
    "        'test/video': wandb.Video(f'lego_{epoch}.gif', fps=30),\n",
    "        'epoch': epoch\n",
    "    })\n",
    "    "
   ]
  },
  {
   "cell_type": "code",
   "execution_count": null,
   "metadata": {},
   "outputs": [],
   "source": []
  },
  {
   "cell_type": "code",
   "execution_count": null,
   "metadata": {},
   "outputs": [],
   "source": []
  }
 ],
 "metadata": {
  "kernelspec": {
   "display_name": "Python 3",
   "language": "python",
   "name": "python3"
  },
  "language_info": {
   "codemirror_mode": {
    "name": "ipython",
    "version": 3
   },
   "file_extension": ".py",
   "mimetype": "text/x-python",
   "name": "python",
   "nbconvert_exporter": "python",
   "pygments_lexer": "ipython3",
   "version": "3.7.4"
  }
 },
 "nbformat": 4,
 "nbformat_minor": 2
}
